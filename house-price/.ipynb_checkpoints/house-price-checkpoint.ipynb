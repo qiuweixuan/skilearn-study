{
 "cells": [
  {
   "cell_type": "markdown",
   "metadata": {},
   "source": [
    "# House Price"
   ]
  },
  {
   "cell_type": "markdown",
   "metadata": {},
   "source": [
    "##  1. download data\n"
   ]
  },
  {
   "cell_type": "code",
   "execution_count": 1,
   "metadata": {},
   "outputs": [],
   "source": [
    "import os\n",
    "import tarfile\n",
    "from six.moves import urllib"
   ]
  },
  {
   "cell_type": "code",
   "execution_count": null,
   "metadata": {},
   "outputs": [],
   "source": [
    "DOWNLOAD_URL = \"https://raw.githubusercontent.com/ageron/handson-ml/master/datasets/housing/housing.tgz\"\n",
    "LOCAL_STORE_DIR = \"./datasets/housing\"\n",
    "STORE_FILE_NAME = \"housing.tgz\"\n",
    "\n",
    "#def download_url_store_path(download_url = DOWNLOAD_URL,store_dir = LOCAL_STORE_DIR,store_file_name = STORE_FILE_NAME ):\n",
    "#定义下载方法\n",
    "def download_url_store_path(download_url ,store_dir ,store_file_name  ):\n",
    "    #查看数据存储文件夹是否存在\n",
    "    if not os.path.isdir(store_dir):\n",
    "        os.makedirs(store_dir)\n",
    "        \n",
    "    #拼接路径\n",
    "    store_path = os.path.join(store_dir,store_file_name)\n",
    "    \n",
    "    #下载文件\n",
    "    urllib.request.urlretrieve(download_url,store_path)\n",
    "\n",
    "\n",
    "    \n"
   ]
  }
 ],
 "metadata": {
  "kernelspec": {
   "display_name": "Python 3",
   "language": "python",
   "name": "python3"
  },
  "language_info": {
   "codemirror_mode": {
    "name": "ipython",
    "version": 3
   },
   "file_extension": ".py",
   "mimetype": "text/x-python",
   "name": "python",
   "nbconvert_exporter": "python",
   "pygments_lexer": "ipython3",
   "version": "3.6.4"
  }
 },
 "nbformat": 4,
 "nbformat_minor": 2
}
